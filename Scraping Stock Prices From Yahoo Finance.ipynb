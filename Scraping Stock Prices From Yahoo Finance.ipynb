{
 "cells": [
  {
   "cell_type": "markdown",
   "id": "0694037b",
   "metadata": {},
   "source": [
    "## 1.0 Import Necessary Libraries"
   ]
  },
  {
   "cell_type": "code",
   "execution_count": 1,
   "id": "ef6330e4",
   "metadata": {},
   "outputs": [],
   "source": [
    "import requests\n",
    "from bs4 import BeautifulSoup"
   ]
  },
  {
   "cell_type": "markdown",
   "id": "ef6c01ad",
   "metadata": {},
   "source": [
    "## 2.0 Fetch the Webpage"
   ]
  },
  {
   "cell_type": "code",
   "execution_count": 2,
   "id": "1f2dfdae",
   "metadata": {},
   "outputs": [],
   "source": [
    "# # Create custom headers as best practice\n",
    "# headers = {'User-Agent' : 'Mozilla/5.0 (X11; Linux x86_64) AppleWebKit/537.36 (KHTML, like Gecko) Chrome/51.0.2704.103 Safari/537.36'}\n",
    "# #\n",
    "# # Set the url\n",
    "# url = 'https://finance.yahoo.com/quote/AAPL'"
   ]
  },
  {
   "cell_type": "code",
   "execution_count": 3,
   "id": "44825365",
   "metadata": {},
   "outputs": [],
   "source": [
    "# # Query the website and the server to get the data from yahoo finance page\n",
    "# # Use get() method on the website\n",
    "# response = requests.get(url, headers=headers)"
   ]
  },
  {
   "cell_type": "code",
   "execution_count": 4,
   "id": "80a66061",
   "metadata": {},
   "outputs": [],
   "source": [
    "# # Check if all previous steps are working correctly\n",
    "# # Look for 200 in the output\n",
    "# # 200 is a standard HTTP status code that means the server has successfully fulfilled the request.\n",
    "# print(response.status_code)"
   ]
  },
  {
   "cell_type": "code",
   "execution_count": 5,
   "id": "3a43cc0f",
   "metadata": {},
   "outputs": [],
   "source": [
    "# Perform another check by looking at the text output \n",
    "# to see if the  information the same as the website\n",
    "#print(response.text)"
   ]
  },
  {
   "cell_type": "markdown",
   "id": "9a42af2e",
   "metadata": {},
   "source": [
    "## 3.0 Parse the HTML Content"
   ]
  },
  {
   "cell_type": "code",
   "execution_count": 6,
   "id": "0f80e620",
   "metadata": {},
   "outputs": [],
   "source": [
    "# # Create soup variable\n",
    "# soup = BeautifulSoup(response.text, 'html.parser')"
   ]
  },
  {
   "cell_type": "code",
   "execution_count": 7,
   "id": "ed1515b7",
   "metadata": {},
   "outputs": [],
   "source": [
    "# # Search html tags to find title tag for our Stock/ETF\n",
    "# print(soup.title.text)"
   ]
  },
  {
   "cell_type": "markdown",
   "id": "7861d61b",
   "metadata": {},
   "source": [
    "## 4.0 Extract the Data"
   ]
  },
  {
   "cell_type": "code",
   "execution_count": 8,
   "id": "2c6a5895",
   "metadata": {},
   "outputs": [],
   "source": [
    "# # Let's query specific parts of the website that we're after\n",
    "# # Stock Price, After market Price and change \n",
    "# # <fin-streamer class=\"Fw(b) Fz(36px) Mb(-4px) D(ib)\" data-symbol=\"QQQM\" data-test=\"qsp-price\" data-field=\"regularMarketPrice\" data-trend=\"none\" data-pricehint=\"2\" value=\"168.6\" active=\"\">168.60</fin-streamer>\n",
    "# #\n",
    "# price = soup.find('fin-streamer', {'class' : 'Fw(b) Fz(36px) Mb(-4px) D(ib)'}).text\n",
    "# #\n",
    "# # print price from element\n",
    "# # print(price)"
   ]
  },
  {
   "cell_type": "code",
   "execution_count": 9,
   "id": "89e56b54",
   "metadata": {},
   "outputs": [],
   "source": [
    "# # Find change in price\n",
    "# # <fin-streamer class=\"Fw(500) Pstart(8px) Fz(24px)\" data-symbol=\"QQQM\" data-test=\"qsp-price-change\" data-field=\"regularMarketChange\" data-trend=\"txt\" data-pricehint=\"2\" value=\"0.060012817\" active=\"\"><span class=\"C($positiveColor)\">+0.06</span></fin-streamer>\n",
    "# #\n",
    "# change = soup.find('fin-streamer', {'class' : 'Fw(500) Pstart(8px) Fz(24px)'}).text\n",
    "# #\n",
    "# print(price, change)"
   ]
  },
  {
   "cell_type": "markdown",
   "id": "52562816",
   "metadata": {},
   "source": [
    "## 5.0 Create a Function to Scrap, Fetch and Extract Data"
   ]
  },
  {
   "cell_type": "code",
   "execution_count": 10,
   "id": "571b2c2e",
   "metadata": {},
   "outputs": [],
   "source": [
    "def getData(symbol):\n",
    "    # Create custom headers as best practice\n",
    "    headers = {'User-Agent' : 'Mozilla/5.0 (X11; Linux x86_64) AppleWebKit/537.36 (KHTML, like Gecko) Chrome/51.0.2704.103 Safari/537.36'}\n",
    "    #\n",
    "    # Set the url\n",
    "    url = f'https://finance.yahoo.com/quote/{symbol}'\n",
    "    #\n",
    "    # Query the website and the server to get the data from yahoo finance page\n",
    "    # Use get() method on the website\n",
    "    response = requests.get(url, headers=headers)\n",
    "    #\n",
    "    # Parse the html content\n",
    "    soup = BeautifulSoup(response.text, 'html.parser')\n",
    "    #\n",
    "    # Create dictionary that stores price and change data\n",
    "    stock = {\n",
    "        'symbol' : symbol,\n",
    "        'price' : soup.find('fin-streamer', {'class' : 'Fw(b) Fz(36px) Mb(-4px) D(ib)'}).text,\n",
    "        'change' : soup.find('fin-streamer', {'class' : 'Fw(500) Pstart(8px) Fz(24px)'}).text,\n",
    "    }\n",
    "    return stock\n",
    "\n",
    "# Print out stock\n",
    "# print(getData('SCHD'))\n"
   ]
  },
  {
   "cell_type": "markdown",
   "id": "de9beb10",
   "metadata": {},
   "source": [
    "## 6.0 Create a list of stocks you are interested in"
   ]
  },
  {
   "cell_type": "code",
   "execution_count": 11,
   "id": "6524563f",
   "metadata": {},
   "outputs": [],
   "source": [
    "# portfolio = ['QQQM', 'SCHD', 'VOO', 'DGRO', 'VYM', 'MSFT', 'AAPL', 'COST', 'LLY', 'NVDA', 'GOOG', 'SHOP', 'ANET', 'AMZN']"
   ]
  },
  {
   "cell_type": "code",
   "execution_count": 12,
   "id": "9a4ff9cc",
   "metadata": {},
   "outputs": [],
   "source": [
    "# Create a blank list\n",
    "# stockdata = []"
   ]
  },
  {
   "cell_type": "markdown",
   "id": "db32f750",
   "metadata": {},
   "source": [
    "## 7.0 Create a For Loop "
   ]
  },
  {
   "cell_type": "code",
   "execution_count": 13,
   "id": "c1e12dee",
   "metadata": {},
   "outputs": [
    {
     "name": "stdout",
     "output_type": "stream",
     "text": [
      "Getting:  QQQM\n",
      "Getting:  SCHD\n",
      "Getting:  VOO\n",
      "Getting:  DGRO\n",
      "Getting:  VYM\n",
      "Getting:  MSFT\n",
      "Getting:  AAPL\n",
      "Getting:  COST\n",
      "Getting:  LLY\n",
      "Getting:  NVDA\n",
      "Getting:  GOOG\n",
      "Getting:  SHOP\n",
      "Getting:  ANET\n",
      "Getting:  AMZN\n",
      "[{'symbol': 'QQQM', 'price': '168.60', 'change': '+0.06'}, {'symbol': 'SCHD', 'price': '76.27', 'change': '+0.21'}, {'symbol': 'VOO', 'price': '437.99', 'change': '+0.20'}, {'symbol': 'DGRO', 'price': '53.94', 'change': '+0.14'}, {'symbol': 'VYM', 'price': '111.49', 'change': '+0.14'}, {'symbol': 'MSFT', 'price': '388.47', 'change': '+3.84'}, {'symbol': 'AAPL', 'price': '185.92', 'change': '+0.33'}, {'symbol': 'COST', 'price': '683.24', 'change': '+9.66'}, {'symbol': 'LLY', 'price': '642.92', 'change': '+7.20'}, {'symbol': 'NVDA', 'price': '547.10', 'change': '-1.12'}, {'symbol': 'GOOG', 'price': '144.24', 'change': '+0.57'}, {'symbol': 'SHOP', 'price': '81.40', 'change': '+0.10'}, {'symbol': 'ANET', 'price': '252.03', 'change': '+0.29'}, {'symbol': 'AMZN', 'price': '154.62', 'change': '-0.56'}]\n"
     ]
    }
   ],
   "source": [
    "portfolio = ['QQQM', 'SCHD', 'VOO', 'DGRO', 'VYM', 'MSFT', 'AAPL', 'COST', 'LLY', 'NVDA', 'GOOG', 'SHOP', 'ANET', 'AMZN']\n",
    "#\n",
    "# Create empty list to store stock data\n",
    "stockdata = [] \n",
    "\n",
    "for item in portfolio:\n",
    "    stockdata.append(getData(item))\n",
    "    print('Getting: ', item)\n",
    "    \n",
    "print(stockdata)"
   ]
  },
  {
   "cell_type": "markdown",
   "id": "ec643edc",
   "metadata": {},
   "source": [
    "## 8.0 Data Storage"
   ]
  },
  {
   "cell_type": "code",
   "execution_count": 14,
   "id": "27fef742",
   "metadata": {},
   "outputs": [],
   "source": [
    "import csv\n",
    "\n",
    "# Assuming stockdata is a list of dictionaries\n",
    "# and each dictionary represents a stock item\n",
    "\n",
    "# Open a file for writing\n",
    "with open('stockdata.csv', 'w', newline='') as file:\n",
    "    # Create a CSV writer object\n",
    "    writer = csv.writer(file)\n",
    "\n",
    "    # Writing the header (column names)\n",
    "    writer.writerow(stockdata[0].keys())\n",
    "\n",
    "    # Writing the data rows\n",
    "    for stock in stockdata:\n",
    "        writer.writerow(stock.values())"
   ]
  },
  {
   "cell_type": "markdown",
   "id": "2d30e72e",
   "metadata": {},
   "source": [
    "## 8.1 Load Data"
   ]
  },
  {
   "cell_type": "code",
   "execution_count": 15,
   "id": "8363bb88",
   "metadata": {},
   "outputs": [
    {
     "data": {
      "text/html": [
       "<div>\n",
       "<style scoped>\n",
       "    .dataframe tbody tr th:only-of-type {\n",
       "        vertical-align: middle;\n",
       "    }\n",
       "\n",
       "    .dataframe tbody tr th {\n",
       "        vertical-align: top;\n",
       "    }\n",
       "\n",
       "    .dataframe thead th {\n",
       "        text-align: right;\n",
       "    }\n",
       "</style>\n",
       "<table border=\"1\" class=\"dataframe\">\n",
       "  <thead>\n",
       "    <tr style=\"text-align: right;\">\n",
       "      <th></th>\n",
       "      <th>symbol</th>\n",
       "      <th>price</th>\n",
       "      <th>change</th>\n",
       "    </tr>\n",
       "  </thead>\n",
       "  <tbody>\n",
       "    <tr>\n",
       "      <th>0</th>\n",
       "      <td>QQQM</td>\n",
       "      <td>168.60</td>\n",
       "      <td>0.06</td>\n",
       "    </tr>\n",
       "    <tr>\n",
       "      <th>1</th>\n",
       "      <td>SCHD</td>\n",
       "      <td>76.27</td>\n",
       "      <td>0.21</td>\n",
       "    </tr>\n",
       "    <tr>\n",
       "      <th>2</th>\n",
       "      <td>VOO</td>\n",
       "      <td>437.99</td>\n",
       "      <td>0.20</td>\n",
       "    </tr>\n",
       "    <tr>\n",
       "      <th>3</th>\n",
       "      <td>DGRO</td>\n",
       "      <td>53.94</td>\n",
       "      <td>0.14</td>\n",
       "    </tr>\n",
       "    <tr>\n",
       "      <th>4</th>\n",
       "      <td>VYM</td>\n",
       "      <td>111.49</td>\n",
       "      <td>0.14</td>\n",
       "    </tr>\n",
       "  </tbody>\n",
       "</table>\n",
       "</div>"
      ],
      "text/plain": [
       "  symbol   price  change\n",
       "0   QQQM  168.60    0.06\n",
       "1   SCHD   76.27    0.21\n",
       "2    VOO  437.99    0.20\n",
       "3   DGRO   53.94    0.14\n",
       "4    VYM  111.49    0.14"
      ]
     },
     "execution_count": 15,
     "metadata": {},
     "output_type": "execute_result"
    }
   ],
   "source": [
    "import pandas as pd\n",
    "\n",
    "df = pd.read_csv('stockdata.csv')\n",
    "df.head()"
   ]
  },
  {
   "cell_type": "markdown",
   "id": "e2bab97f",
   "metadata": {},
   "source": [
    "### 8.1.1 Check Data Types"
   ]
  },
  {
   "cell_type": "code",
   "execution_count": 16,
   "id": "9738af94",
   "metadata": {},
   "outputs": [
    {
     "data": {
      "text/plain": [
       "symbol     object\n",
       "price     float64\n",
       "change    float64\n",
       "dtype: object"
      ]
     },
     "execution_count": 16,
     "metadata": {},
     "output_type": "execute_result"
    }
   ],
   "source": [
    "df.dtypes"
   ]
  },
  {
   "cell_type": "markdown",
   "id": "d634dfd3",
   "metadata": {},
   "source": [
    "## 8.2 Visualize Stock Data"
   ]
  },
  {
   "cell_type": "code",
   "execution_count": 17,
   "id": "0d6d3757",
   "metadata": {},
   "outputs": [
    {
     "data": {
      "image/png": "[encoded data removed]",
      "text/plain": [
       "<Figure size 1000x600 with 1 Axes>"
      ]
     },
     "metadata": {},
     "output_type": "display_data"
    }
   ],
   "source": [
    "import matplotlib.pyplot as plt\n",
    "\n",
    "# Creat a bar chart\n",
    "plt.figure(figsize=(10, 6))\n",
    "plt.bar(df['symbol'], df['price'], color='blue')\n",
    "plt.xlabel('Stock Symbol')\n",
    "plt.ylabel('Price')\n",
    "plt.title('Daily Stock Prices')\n",
    "plt.xticks(rotation=45)\n",
    "plt.show();"
   ]
  },
  {
   "cell_type": "code",
   "execution_count": 18,
   "id": "ad91f851",
   "metadata": {},
   "outputs": [
    {
     "data": {
      "image/png": "[encoded data removed]",
      "text/plain": [
       "<Figure size 1000x500 with 1 Axes>"
      ]
     },
     "metadata": {},
     "output_type": "display_data"
    }
   ],
   "source": [
    "import warnings\n",
    "warnings.filterwarnings('ignore', category=UserWarning)\n",
    "\n",
    "# import matplotlib.pyplot as plt\n",
    "import seaborn as sns\n",
    "\n",
    "# Set the height and aspect to control the size of the plot\n",
    "g = sns.catplot(x='symbol',\n",
    "                y='price',\n",
    "                data=df,\n",
    "                kind='bar',\n",
    "                height=5, aspect=2)  # You can adjust these values as needed\n",
    "\n",
    "# Rotate x-tick labels\n",
    "g.set_xticklabels(rotation=45)\n",
    "\n",
    "# Optimize the layout\n",
    "plt.tight_layout()\n",
    "\n",
    "# Display the plot\n",
    "plt.show()"
   ]
  }
 ],
 "metadata": {
  "kernelspec": {
   "display_name": "Python 3 (ipykernel)",
   "language": "python",
   "name": "python3"
  },
  "language_info": {
   "codemirror_mode": {
    "name": "ipython",
    "version": 3
   },
   "file_extension": ".py",
   "mimetype": "text/x-python",
   "name": "python",
   "nbconvert_exporter": "python",
   "pygments_lexer": "ipython3",
   "version": "3.11.5"
  }
 },
 "nbformat": 4,
 "nbformat_minor": 5
}
